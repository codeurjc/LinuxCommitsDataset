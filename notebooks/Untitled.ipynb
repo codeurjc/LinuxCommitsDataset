{
 "cells": [
  {
   "cell_type": "code",
   "execution_count": 1,
   "id": "25a55d38-5884-4627-b813-f87dfe07a136",
   "metadata": {},
   "outputs": [],
   "source": [
    "import json"
   ]
  },
  {
   "cell_type": "code",
   "execution_count": 3,
   "id": "0601d167-13b8-4e30-b7d9-297cf45dedc1",
   "metadata": {},
   "outputs": [],
   "source": [
    "with open('../linux-commits-2023-11-12.json') as f:\n",
    "    all_commits = f.readlines()"
   ]
  },
  {
   "cell_type": "code",
   "execution_count": null,
   "id": "769fdbdb-3cdd-469c-9016-7fa1cbd373e5",
   "metadata": {},
   "outputs": [],
   "source": [
    "all_commits_dict_list = []\n",
    "for commit in all_commits:\n",
    "    commit_dict = json.loads(commit)\n",
    "    all_commits_dict_list.append(commit_dict)"
   ]
  },
  {
   "cell_type": "code",
   "execution_count": null,
   "id": "a5475042-a488-4aa1-ab20-cf3ddf203474",
   "metadata": {},
   "outputs": [],
   "source": [
    "len(all_commits_dict_list)"
   ]
  }
 ],
 "metadata": {
  "kernelspec": {
   "display_name": "Python 3 (ipykernel)",
   "language": "python",
   "name": "python3"
  },
  "language_info": {
   "codemirror_mode": {
    "name": "ipython",
    "version": 3
   },
   "file_extension": ".py",
   "mimetype": "text/x-python",
   "name": "python",
   "nbconvert_exporter": "python",
   "pygments_lexer": "ipython3",
   "version": "3.11.5"
  }
 },
 "nbformat": 4,
 "nbformat_minor": 5
}
