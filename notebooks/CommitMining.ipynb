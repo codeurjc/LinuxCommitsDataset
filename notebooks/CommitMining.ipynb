{
 "cells": [
  {
   "cell_type": "code",
   "execution_count": 1,
   "id": "25a55d38-5884-4627-b813-f87dfe07a136",
   "metadata": {},
   "outputs": [],
   "source": [
    "import json\n",
    "import re\n",
    "from datetime import datetime\n",
    "import concurrent.futures"
   ]
  },
  {
   "cell_type": "code",
   "execution_count": 2,
   "id": "0601d167-13b8-4e30-b7d9-297cf45dedc1",
   "metadata": {},
   "outputs": [],
   "source": [
    "with open('../linux-commits-2023-11-12.json') as f:\n",
    "    all_commits = f.readlines()"
   ]
  },
  {
   "cell_type": "code",
   "execution_count": 3,
   "id": "769fdbdb-3cdd-469c-9016-7fa1cbd373e5",
   "metadata": {},
   "outputs": [],
   "source": [
    "all_commits_dict_list = []\n",
    "all_commits_map = {}\n",
    "for commit in all_commits:\n",
    "    commit_dict = json.loads(commit)\n",
    "    all_commits_map[commit_dict['data']['commit'][0:12]] = commit_dict\n",
    "    all_commits_dict_list.append(commit_dict)"
   ]
  },
  {
   "cell_type": "code",
   "execution_count": 4,
   "id": "618e67b7-eb3d-4e19-bb28-c043284f29b1",
   "metadata": {},
   "outputs": [],
   "source": [
    "def getFullHash(short_hash):\n",
    "    for key in all_commits_map.keys():\n",
    "        if key.startswith(short_hash):\n",
    "            return key\n",
    "    return None"
   ]
  },
  {
   "cell_type": "code",
   "execution_count": 5,
   "id": "c92ea7dc-550c-480d-990c-437c79ae85ca",
   "metadata": {},
   "outputs": [
    {
     "data": {
      "text/plain": [
       "'449fc48866f7'"
      ]
     },
     "execution_count": 5,
     "metadata": {},
     "output_type": "execute_result"
    }
   ],
   "source": [
    "getFullHash(\"449fc48\")"
   ]
  },
  {
   "cell_type": "code",
   "execution_count": 6,
   "id": "5634802b-4cff-4fa1-8ab2-4f7efca63aa1",
   "metadata": {},
   "outputs": [],
   "source": [
    "date_format = '%a %b %d %H:%M:%S %Y %z'\n",
    "def datesDistance(bfc_date, bic_date):\n",
    "    bfc_date_formated = datetime.strptime(bfc_date, date_format)\n",
    "    bic_date_formated = datetime.strptime(bic_date, date_format)\n",
    "    return bfc_date_formated - bic_date_formated"
   ]
  },
  {
   "cell_type": "code",
   "execution_count": 93,
   "id": "a2bf5f2d-315d-42df-8538-9ea40283d59d",
   "metadata": {},
   "outputs": [],
   "source": [
    "def analyzeCommit(commit):\n",
    "    global http_links\n",
    "    global short_commit_hash\n",
    "    global not_in_git\n",
    "    global not_sha\n",
    "    \n",
    "    try:\n",
    "        # There are commits without message\n",
    "        if 'message' not in commit['data']:\n",
    "            return None\n",
    "\n",
    "        match = re.search(r\"Fixes:[^\\S\\n]+(\\b[0-9a-f]{5,40}\\b)\", commit['data']['message'])\n",
    "        #match = re.search(r\"Fixes:[^\\S\\n]+(\\w+)\", commit['data']['message'])\n",
    "        if match != None:\n",
    "            bic_hash = match.group(1)\n",
    "\n",
    "            # # There are fixes with a link to Bugzilla\n",
    "            # if bic_hash.startswith(\"http\"):\n",
    "            #     http_links+=1\n",
    "            #     return None\n",
    "    \n",
    "            # if bic_hash == \"commit\":\n",
    "            #     match = re.search(\"Fixes:[^\\S\\n]+commit (\\w+)\", commit['data']['message'])\n",
    "            #     bic_hash = match.group(1)\n",
    "    \n",
    "            # if bic_hash in ['IRQ','NB','SLI','Bug','line','tag','tags','discovery','drivers','igt','Bugzilla','correctly','computation','terminate','Configure','addresses']:\n",
    "            #     return None\n",
    "\n",
    "            # # There are fixes with a commit hash shorter than 12 characters\n",
    "            # if len(bic_hash[0:12]) != 12:\n",
    "            #     # Double 'Fixes: ' (7 cases)\n",
    "            #     match = re.search(\"Fixes: Fixes:[^\\S\\n]+(\\w+)\", commit['data']['message'])\n",
    "            #     if match is not None:\n",
    "            #         bic_hash = match.group(1) \n",
    "            #     else:\n",
    "            #         # Special format (3 cases)\n",
    "            #         match = re.search(\"Fixes: linux-next commit[^\\S\\n]+(\\w+)\", commit['data']['message'])\n",
    "            #         if match is not None:\n",
    "            #             bic_hash = match.group(1)\n",
    "            #         else:\n",
    "            #             # 77 cases, no commits hashes (manually checked)\n",
    "            #             if len(bic_hash[0:12]) < 6:\n",
    "            #                 short_commit_hash+=1\n",
    "            #             else:\n",
    "            #                 print(bic_hash)\n",
    "            #             #bic_hash = getFullHash(bic_hash)\n",
    "            #             #if bic_hash is None: return None\n",
    "            #             return None\n",
    "            \n",
    "            # if bic_hash[0:12] not in all_commits_map:\n",
    "            #     not_in_git+=1\n",
    "            #     return None\n",
    "                \n",
    "            bic = all_commits_map[bic_hash[0:12]]\n",
    "\n",
    "            delta = datesDistance(commit['data']['CommitDate'],bic['data']['CommitDate'])\n",
    "            result = {\n",
    "                'BFC_hash': commit['data']['commit'],\n",
    "                'BIC_hash':  bic['data']['commit'],\n",
    "                'BFC_comment': commit['data']['message'].split('\\n', 1)[0],\n",
    "                'BIC_comment': bic['data']['message'].split('\\n', 1)[0],\n",
    "                'daysDistance': delta.days\n",
    "            }\n",
    "            return result\n",
    "\n",
    "    except Exception as e:\n",
    "        match = re.search(\"Fixes: (.*)\", commit['data']['message'])    \n",
    "        #print(\"Error matching: \",match.group(0))\n",
    "        return None"
   ]
  },
  {
   "cell_type": "code",
   "execution_count": 94,
   "id": "6cf3fb0c-f919-4adb-a23f-a1a670f896fa",
   "metadata": {},
   "outputs": [
    {
     "name": "stdout",
     "output_type": "stream",
     "text": [
      "short_commit_hash: 0\n",
      "http_links: 0\n",
      "not_in_git 0\n",
      "not_sha 0\n"
     ]
    }
   ],
   "source": [
    "links = []\n",
    "short_commit_hash = 0\n",
    "http_links = 0\n",
    "not_in_git = 0\n",
    "not_sha = 0\n",
    "for commit in all_commits_dict_list:\n",
    "    result = analyzeCommit(commit)\n",
    "    if result is not None:\n",
    "        links.append(result)\n",
    "print(\"short_commit_hash:\",short_commit_hash)\n",
    "print(\"http_links:\",http_links)\n",
    "print(\"not_in_git\",not_in_git)\n",
    "print(\"not_sha\",not_sha)"
   ]
  },
  {
   "cell_type": "code",
   "execution_count": 95,
   "id": "0ccb35e9-94cb-43e9-918e-b28287c53758",
   "metadata": {},
   "outputs": [
    {
     "data": {
      "text/plain": [
       "89185"
      ]
     },
     "execution_count": 95,
     "metadata": {},
     "output_type": "execute_result"
    }
   ],
   "source": [
    "len(links)"
   ]
  },
  {
   "cell_type": "code",
   "execution_count": 9,
   "id": "a5475042-a488-4aa1-ab20-cf3ddf203474",
   "metadata": {},
   "outputs": [],
   "source": [
    "# With futures (60s)\n",
    "# future_results = []\n",
    "# with concurrent.futures.ThreadPoolExecutor(64) as executor:\n",
    "#     for commit in all_commits_dict_list:\n",
    "#         future = executor.submit(analyzeCommit,commit)\n",
    "#         future_results.append(future)     \n",
    "#     #print(\"short_commit_hash:\",short_commit_hash)\n",
    "#     #print(\"http_links:\",http_links)\n",
    "\n",
    "# links = []\n",
    "# for future in future_results:\n",
    "#     r = future.result() \n",
    "#     if r is not None:\n",
    "#         links.append(r)"
   ]
  },
  {
   "cell_type": "code",
   "execution_count": 96,
   "id": "f49ae4e4-6136-4bfc-8565-78a7534ffb2c",
   "metadata": {},
   "outputs": [
    {
     "data": {
      "text/plain": [
       "456"
      ]
     },
     "execution_count": 96,
     "metadata": {},
     "output_type": "execute_result"
    }
   ],
   "source": [
    "count = 0\n",
    "for link in links:\n",
    "    if link['BIC_hash'] == '1da177e4c3f41524e886b7f1b8a0c1fc7321cac2':\n",
    "        count+=1\n",
    "count"
   ]
  },
  {
   "cell_type": "markdown",
   "id": "ad15179d-24df-45bd-a170-0c4a3756bdb2",
   "metadata": {},
   "source": [
    "## Rare cases\n",
    "- No commit message: https://github.com/torvalds/linux/commit/7b7abfe3dd81d659a0889f88965168f7eef8c5c6\n",
    "- No exist in repository (but in GitHub): https://github.com/torvalds/linux/commit/54fe26a900bc528f3df1e4235cb6b9ca5c6d4dc2\n",
    "- No exist (even in GitHub): 21d2202158e9"
   ]
  }
 ],
 "metadata": {
  "kernelspec": {
   "display_name": "Python 3 (ipykernel)",
   "language": "python",
   "name": "python3"
  },
  "language_info": {
   "codemirror_mode": {
    "name": "ipython",
    "version": 3
   },
   "file_extension": ".py",
   "mimetype": "text/x-python",
   "name": "python",
   "nbconvert_exporter": "python",
   "pygments_lexer": "ipython3",
   "version": "3.11.5"
  }
 },
 "nbformat": 4,
 "nbformat_minor": 5
}
