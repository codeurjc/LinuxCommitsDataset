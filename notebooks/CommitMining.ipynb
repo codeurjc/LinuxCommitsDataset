{
 "cells": [
  {
   "cell_type": "code",
   "execution_count": 19,
   "id": "25a55d38-5884-4627-b813-f87dfe07a136",
   "metadata": {},
   "outputs": [],
   "source": [
    "import json\n",
    "import re\n",
    "from datetime import datetime\n",
    "import pandas as pd\n",
    "import seaborn as sns\n",
    "import matplotlib.pyplot as plt"
   ]
  },
  {
   "cell_type": "code",
   "execution_count": 2,
   "id": "0601d167-13b8-4e30-b7d9-297cf45dedc1",
   "metadata": {},
   "outputs": [],
   "source": [
    "with open('../linux-commits-2023-11-12.json') as f:\n",
    "    all_commits = f.readlines()"
   ]
  },
  {
   "cell_type": "code",
   "execution_count": 3,
   "id": "769fdbdb-3cdd-469c-9016-7fa1cbd373e5",
   "metadata": {},
   "outputs": [],
   "source": [
    "all_commits_dict_list = []\n",
    "all_commits_map = {}\n",
    "for commit in all_commits:\n",
    "    commit_dict = json.loads(commit)\n",
    "\n",
    "    # Just a fair idea about multiple-key\n",
    "    for n in [5, 6, 7, 8, 9, 10, 11, 12]:\n",
    "        # To cover collisions\n",
    "        if commit_dict['data']['commit'][0:n] in all_commits_map:\n",
    "            all_commits_map[commit_dict['data']['commit'][0:n]].append(commit_dict)\n",
    "        else:\n",
    "            all_commits_map[commit_dict['data']['commit'][0:n]] = [commit_dict]\n",
    "    all_commits_dict_list.append(commit_dict)"
   ]
  },
  {
   "cell_type": "code",
   "execution_count": 4,
   "id": "5634802b-4cff-4fa1-8ab2-4f7efca63aa1",
   "metadata": {},
   "outputs": [],
   "source": [
    "date_format = '%a %b %d %H:%M:%S %Y %z'\n",
    "def datesDistance(bfc_date, bic_date):\n",
    "    bfc_date_formated = datetime.strptime(bfc_date, date_format)\n",
    "    bic_date_formated = datetime.strptime(bic_date, date_format)\n",
    "    return bfc_date_formated - bic_date_formated"
   ]
  },
  {
   "cell_type": "code",
   "execution_count": 5,
   "id": "38562463-c8a0-40d5-9b61-bafe5e8b2040",
   "metadata": {},
   "outputs": [],
   "source": [
    "def analyzeCornerCases(commit):\n",
    "    global http_links\n",
    "\n",
    "    commit_message = commit['data']['message'].replace('\"','').replace('(',' ').replace(')',' ')#.lower()\n",
    "    match = re.search(r\"Fixes:[^\\S\\n]+(\\w+)\", commit_message)\n",
    "    if match is not None:\n",
    "        bic_hash = match.group(1)\n",
    "    else:\n",
    "        return None\n",
    "        \n",
    "    # There are fixes with a link to Bugzilla/Other sites\n",
    "    if bic_hash.startswith(\"http\"):\n",
    "        http_links+=1\n",
    "        return None\n",
    "\n",
    "    if bic_hash in [\n",
    "        'IRQ','NB','SLI','Bug','line','tag',\n",
    "        'tags','Discovery','discovery','drivers','igt','Bugzilla','bugzilla',\n",
    "        'correctly','computation','terminate','Configure','addresses',\n",
    "        'hashes', 'second'\n",
    "    ]:\n",
    "        return None\n",
    "\n",
    "    if bic_hash == \"commit\":\n",
    "        match = re.search(r\"Fixes:[^\\S\\n]+commit[^\\S\\n]+(\\b[0-9a-f]{5,40}\\b)\", commit_message)\n",
    "        bic_hash = match.group(1)\n",
    "\n",
    "    elif bic_hash == \"Commit\":\n",
    "        match = re.search(r\"Fixes:[^\\S\\n]+Commit[^\\S\\n]+(\\b[0-9a-f]{5,40}\\b)\", commit_message)\n",
    "        bic_hash = match.group(1)\n",
    "\n",
    "    # Double 'Fixes: ' (7 cases)\n",
    "    elif bic_hash == \"Fixes\":\n",
    "        match = re.search(\"Fixes: Fixes:[^\\S\\n]+(\\b[0-9a-f]{5,40}\\b)\", commit_message)\n",
    "        if match is not None:\n",
    "            bic_hash = match.group(1) \n",
    "\n",
    "    # Special format (3 cases)\n",
    "    elif bic_hash == \"linux\":\n",
    "        match = re.search(\"Fixes: linux-next commit[^\\S\\n]+(\\b[0-9a-f]{5,40}\\b)\", commit_message)\n",
    "        if match is not None:\n",
    "            bic_hash = match.group(1)\n",
    "\n",
    "    # 77 cases, no commits hashes (manually checked)\n",
    "    elif len(bic_hash[0:12]) < 6:\n",
    "        return None\n",
    "\n",
    "    return bic_hash"
   ]
  },
  {
   "cell_type": "code",
   "execution_count": 6,
   "id": "a2bf5f2d-315d-42df-8538-9ea40283d59d",
   "metadata": {},
   "outputs": [],
   "source": [
    "def analyzeCommit(commit):\n",
    "    global errors\n",
    "    global not_in_git\n",
    "    global not_sha\n",
    "    global perfect_samples\n",
    "    global short_commit_hash\n",
    "    global corner_cases\n",
    "    \n",
    "    try:\n",
    "        # There are commits without message\n",
    "        if 'message' not in commit['data']:\n",
    "            return None\n",
    "\n",
    "        bic_hash = \"\"\n",
    "\n",
    "        # Search: \"Fixes: <hash>\"\n",
    "        match = re.search(r\"Fixes:[^\\S\\n]+(\\b[0-9a-f]{5,40}\\b)\", commit['data']['message'])\n",
    "        if match is not None:\n",
    "            bic_hash = match.group(1)\n",
    "            perfect_samples+=1\n",
    "        else:\n",
    "            #return None\n",
    "            # Search: \"Fixes <something>\"\n",
    "            bic_hash = analyzeCornerCases(commit)\n",
    "            if bic_hash is None: return None\n",
    "            corner_cases+=1\n",
    "\n",
    "        # Last check, if commit hash not in map, discard it\n",
    "        if bic_hash[0:12] not in all_commits_map:\n",
    "            not_in_git+=1\n",
    "            return None\n",
    "                \n",
    "        candidates = all_commits_map[bic_hash[0:12]]\n",
    "\n",
    "        if len(candidates) > 1:\n",
    "            print(\"Collision\", bic_hash[0:12], candidates[0]['data']['commit'],candidates[1]['data']['commit'], \"BFC: \", commit['data']['commit'])\n",
    "            return None\n",
    "        else:\n",
    "            bic = candidates[0]\n",
    "        \n",
    "        delta = datesDistance(commit['data']['CommitDate'],bic['data']['CommitDate'])\n",
    "        result = {\n",
    "            'BFC_hash': commit['data']['commit'],\n",
    "            'BIC_hash':  bic['data']['commit'],\n",
    "            'BFC_comment': commit['data']['message'].split('\\n', 1)[0],\n",
    "            'BIC_comment': bic['data']['message'].split('\\n', 1)[0],\n",
    "            'daysDistance': delta.days\n",
    "        }\n",
    "        return result\n",
    "\n",
    "    except Exception as e:\n",
    "        errors+=1\n",
    "        match = re.search(\"Fixes: (.*)\", commit['data']['message'])    \n",
    "        print(\"Error matching: \",match.group(0), \"BFC:\",commit['data']['commit'])\n",
    "        return None"
   ]
  },
  {
   "cell_type": "code",
   "execution_count": 7,
   "id": "6cf3fb0c-f919-4adb-a23f-a1a670f896fa",
   "metadata": {},
   "outputs": [
    {
     "name": "stdout",
     "output_type": "stream",
     "text": [
      "Collision 22a5dc 22a5dc0e5e3e8fef804230cd73ed7b0afd4c7bae 22a5dc10e3f8fb8370748ea19dc4e3e1620d8296 BFC:  d7924450e14ea414568563ec01489f77452b00b4\n",
      "Collision 4f1982 4f198289747f0391bc5a5574279b1791a8ca2d06 4f1982b4e262c45475a91b4253e9bc7f7c991c13 BFC:  3fd61b209977db8a9fe6c44d5a5a7aee7a255f64\n",
      "Error matching:  Fixes: commit BFC: 7ea38c6c3622bc65279dc6a1fecd28227027fbb5\n",
      "Error matching:  Fixes: commit 8700e3e7c48A5 (\"Add Soft RoCE driver\") BFC: e259934d4df7f99f2a5c2c4f074f6a55bd4b1722\n",
      "http_links 139\n",
      "not_in_git 1163\n",
      "perfect_samples 91959\n",
      "corner_cases 422\n",
      "errors 2\n"
     ]
    }
   ],
   "source": [
    "links = []\n",
    "errors = 0\n",
    "corner_cases = 0\n",
    "http_links = 0\n",
    "not_in_git = 0\n",
    "perfect_samples = 0\n",
    "for commit in all_commits_dict_list:\n",
    "    result = analyzeCommit(commit)\n",
    "    if result is not None:\n",
    "        links.append(result)\n",
    "print(\"http_links\",http_links)\n",
    "print(\"not_in_git\",not_in_git)\n",
    "print(\"perfect_samples\",perfect_samples)\n",
    "print(\"corner_cases\",corner_cases)\n",
    "print(\"errors\",errors)"
   ]
  },
  {
   "cell_type": "code",
   "execution_count": 8,
   "id": "a9bec271-5ca7-40ad-9d37-98bd8a0e6b55",
   "metadata": {},
   "outputs": [
    {
     "data": {
      "text/plain": [
       "91216"
      ]
     },
     "execution_count": 8,
     "metadata": {},
     "output_type": "execute_result"
    }
   ],
   "source": [
    "len(links)"
   ]
  },
  {
   "cell_type": "code",
   "execution_count": 9,
   "id": "48f543d7-997f-462a-b37a-885539566eb5",
   "metadata": {},
   "outputs": [
    {
     "data": {
      "text/plain": [
       "90760"
      ]
     },
     "execution_count": 9,
     "metadata": {},
     "output_type": "execute_result"
    }
   ],
   "source": [
    "filtered_links = []\n",
    "for link in links:\n",
    "    if link['BIC_hash'] != '1da177e4c3f41524e886b7f1b8a0c1fc7321cac2':\n",
    "        filtered_links.append(link)\n",
    "len(filtered_links)"
   ]
  },
  {
   "cell_type": "code",
   "execution_count": 10,
   "id": "b20c487b-b6ae-4af6-9c6f-caa29c943849",
   "metadata": {},
   "outputs": [],
   "source": [
    "df = pd.DataFrame(filtered_links)\n",
    "df.to_csv('links.csv', index=False)  "
   ]
  },
  {
   "cell_type": "code",
   "execution_count": 11,
   "id": "f49ae4e4-6136-4bfc-8565-78a7534ffb2c",
   "metadata": {},
   "outputs": [
    {
     "data": {
      "text/plain": [
       "count    90760.000000\n",
       "mean       646.141516\n",
       "std       1003.671112\n",
       "min          0.000000\n",
       "25%         45.000000\n",
       "50%        203.000000\n",
       "75%        795.000000\n",
       "max       6697.000000\n",
       "Name: daysDistance, dtype: float64"
      ]
     },
     "execution_count": 11,
     "metadata": {},
     "output_type": "execute_result"
    }
   ],
   "source": [
    "df['daysDistance'].describe()"
   ]
  },
  {
   "cell_type": "code",
   "execution_count": 36,
   "id": "ed3a62a9-4d33-4523-b5aa-355a807aac5d",
   "metadata": {},
   "outputs": [
    {
     "data": {
      "image/png": "[encoded data removed]",
      "text/plain": [
       "<Figure size 1600x200 with 1 Axes>"
      ]
     },
     "metadata": {},
     "output_type": "display_data"
    }
   ],
   "source": [
    "#df.boxplot(column=['daysDistance'])\n",
    "sns.set(rc={\"figure.figsize\":(16, 2)})\n",
    "sns.boxplot(\n",
    "    x=df['daysDistance'], \n",
    ")\n",
    "plt.show()"
   ]
  },
  {
   "cell_type": "code",
   "execution_count": 15,
   "id": "188f2a71-03bc-4410-8804-a8aa11d13611",
   "metadata": {},
   "outputs": [
    {
     "data": {
      "text/plain": [
       "<Axes: xlabel='daysDistance'>"
      ]
     },
     "execution_count": 15,
     "metadata": {},
     "output_type": "execute_result"
    }
   ],
   "source": [
    "sns.boxplot(x=df['daysDistance'])"
   ]
  },
  {
   "cell_type": "markdown",
   "id": "ad15179d-24df-45bd-a170-0c4a3756bdb2",
   "metadata": {},
   "source": [
    "## Rare cases\n",
    "- No commit message: https://github.com/torvalds/linux/commit/7b7abfe3dd81d659a0889f88965168f7eef8c5c6\n",
    "- No exist in repository (but in GitHub): https://github.com/torvalds/linux/commit/54fe26a900bc528f3df1e4235cb6b9ca5c6d4dc2\n",
    "- No exist (even in GitHub): 21d2202158e9"
   ]
  }
 ],
 "metadata": {
  "kernelspec": {
   "display_name": "Python 3 (ipykernel)",
   "language": "python",
   "name": "python3"
  },
  "language_info": {
   "codemirror_mode": {
    "name": "ipython",
    "version": 3
   },
   "file_extension": ".py",
   "mimetype": "text/x-python",
   "name": "python",
   "nbconvert_exporter": "python",
   "pygments_lexer": "ipython3",
   "version": "3.11.5"
  }
 },
 "nbformat": 4,
 "nbformat_minor": 5
}
