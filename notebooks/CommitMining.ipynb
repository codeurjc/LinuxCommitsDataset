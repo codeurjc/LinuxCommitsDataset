{
 "cells": [
  {
   "cell_type": "code",
   "execution_count": 1,
   "id": "25a55d38-5884-4627-b813-f87dfe07a136",
   "metadata": {},
   "outputs": [],
   "source": [
    "import json\n",
    "import re\n",
    "from datetime import datetime\n",
    "import pandas as pd\n",
    "import seaborn as sns\n",
    "import matplotlib.pyplot as plt\n",
    "import subprocess\n",
    "import concurrent.futures"
   ]
  },
  {
   "cell_type": "markdown",
   "id": "54c88292-6d0f-496b-ab12-c02701e769c8",
   "metadata": {},
   "source": [
    "# Generate link dataset"
   ]
  },
  {
   "cell_type": "code",
   "execution_count": 2,
   "id": "0601d167-13b8-4e30-b7d9-297cf45dedc1",
   "metadata": {},
   "outputs": [],
   "source": [
    "with open('../linux-commits-2023-11-12.json') as f:\n",
    "    all_commits = f.readlines()"
   ]
  },
  {
   "cell_type": "code",
   "execution_count": 3,
   "id": "3906e71d-48cb-48c4-9fda-7055ceadf7cd",
   "metadata": {},
   "outputs": [],
   "source": [
    "# ! git clone git://git.kernel.org/pub/scm/linux/kernel/git/torvalds/linux.git"
   ]
  },
  {
   "cell_type": "code",
   "execution_count": 4,
   "id": "769fdbdb-3cdd-469c-9016-7fa1cbd373e5",
   "metadata": {},
   "outputs": [],
   "source": [
    "all_commits_dict_list = []\n",
    "all_commits_map = {}\n",
    "for commit in all_commits:\n",
    "    commit_dict = json.loads(commit)\n",
    "\n",
    "    # Just a fair idea about multiple-key\n",
    "    for n in [5, 6, 7, 8, 9, 10, 11, 12]:\n",
    "        # To cover collisions\n",
    "        if commit_dict['data']['commit'][0:n] in all_commits_map:\n",
    "            all_commits_map[commit_dict['data']['commit'][0:n]].append(commit_dict)\n",
    "        else:\n",
    "            all_commits_map[commit_dict['data']['commit'][0:n]] = [commit_dict]\n",
    "    all_commits_dict_list.append(commit_dict)"
   ]
  },
  {
   "cell_type": "code",
   "execution_count": 5,
   "id": "5634802b-4cff-4fa1-8ab2-4f7efca63aa1",
   "metadata": {},
   "outputs": [],
   "source": [
    "date_format = '%a %b %d %H:%M:%S %Y %z'\n",
    "def datesDistance(bfc_date, bic_date):\n",
    "    bfc_date_formated = datetime.strptime(bfc_date, date_format)\n",
    "    bic_date_formated = datetime.strptime(bic_date, date_format)\n",
    "    return bfc_date_formated - bic_date_formated"
   ]
  },
  {
   "cell_type": "code",
   "execution_count": 6,
   "id": "c2dfaf6b-99ea-4103-943e-f7b3f1bc8fb2",
   "metadata": {},
   "outputs": [],
   "source": [
    "def commitDistance(bfc_hash, bic_hash):\n",
    "    distance_raw = subprocess.getoutput(\"cd linux/ && git rev-list \"+bfc_hash+\"...\"+bic_hash+\" | wc -l\")\n",
    "    return int(distance_raw)"
   ]
  },
  {
   "cell_type": "code",
   "execution_count": 7,
   "id": "38562463-c8a0-40d5-9b61-bafe5e8b2040",
   "metadata": {},
   "outputs": [],
   "source": [
    "def analyzeCornerCases(commit):\n",
    "    global http_links\n",
    "\n",
    "    commit_message = commit['data']['message'].replace('\"','').replace('(',' ').replace(')',' ')#.lower()\n",
    "    match = re.search(r\"Fixes:[^\\S\\n]+(\\w+)\", commit_message)\n",
    "    if match is not None:\n",
    "        bic_hash = match.group(1)\n",
    "    else:\n",
    "        return None\n",
    "        \n",
    "    # There are fixes with a link to Bugzilla/Other sites\n",
    "    if bic_hash.startswith(\"http\"):\n",
    "        http_links+=1\n",
    "        return None\n",
    "\n",
    "    if bic_hash in [\n",
    "        'IRQ','NB','SLI','Bug','line','tag',\n",
    "        'tags','Discovery','discovery','drivers','igt','Bugzilla','bugzilla',\n",
    "        'correctly','computation','terminate','Configure','addresses',\n",
    "        'hashes', 'second'\n",
    "    ]:\n",
    "        return None\n",
    "\n",
    "    if bic_hash == \"commit\":\n",
    "        match = re.search(r\"Fixes:[^\\S\\n]+commit[^\\S\\n]+(\\b[0-9a-f]{5,40}\\b)\", commit_message)\n",
    "        bic_hash = match.group(1)\n",
    "\n",
    "    elif bic_hash == \"Commit\":\n",
    "        match = re.search(r\"Fixes:[^\\S\\n]+Commit[^\\S\\n]+(\\b[0-9a-f]{5,40}\\b)\", commit_message)\n",
    "        bic_hash = match.group(1)\n",
    "\n",
    "    # Double 'Fixes: ' (7 cases)\n",
    "    elif bic_hash == \"Fixes\":\n",
    "        match = re.search(\"Fixes: Fixes:[^\\S\\n]+(\\b[0-9a-f]{5,40}\\b)\", commit_message)\n",
    "        if match is not None:\n",
    "            bic_hash = match.group(1) \n",
    "\n",
    "    # Special format (3 cases)\n",
    "    elif bic_hash == \"linux\":\n",
    "        match = re.search(\"Fixes: linux-next commit[^\\S\\n]+(\\b[0-9a-f]{5,40}\\b)\", commit_message)\n",
    "        if match is not None:\n",
    "            bic_hash = match.group(1)\n",
    "\n",
    "    # 77 cases, no commits hashes (manually checked)\n",
    "    elif len(bic_hash[0:12]) < 6:\n",
    "        return None\n",
    "\n",
    "    return bic_hash"
   ]
  },
  {
   "cell_type": "code",
   "execution_count": 8,
   "id": "a2bf5f2d-315d-42df-8538-9ea40283d59d",
   "metadata": {},
   "outputs": [],
   "source": [
    "def analyzeCommit(commit):\n",
    "    global errors\n",
    "    global not_in_git\n",
    "    global not_sha\n",
    "    global perfect_samples\n",
    "    global short_commit_hash\n",
    "    global corner_cases\n",
    "    \n",
    "    try:\n",
    "        # There are commits without message\n",
    "        if 'message' not in commit['data']:\n",
    "            return None\n",
    "\n",
    "        bic_hash = \"\"\n",
    "\n",
    "        # Search: \"Fixes: <hash>\"\n",
    "        match = re.search(r\"Fixes:[^\\S\\n]+(\\b[0-9a-f]{5,40}\\b)\", commit['data']['message'])\n",
    "        if match is not None:\n",
    "            bic_hash = match.group(1)\n",
    "            perfect_samples+=1\n",
    "        else:\n",
    "            #return None\n",
    "            # Search: \"Fixes <something>\"\n",
    "            bic_hash = analyzeCornerCases(commit)\n",
    "            if bic_hash is None: return None\n",
    "            corner_cases+=1\n",
    "\n",
    "        # Last check, if commit hash not in map, discard it\n",
    "        if bic_hash[0:12] not in all_commits_map:\n",
    "            not_in_git+=1\n",
    "            return None\n",
    "                \n",
    "        candidates = all_commits_map[bic_hash[0:12]]\n",
    "\n",
    "        if len(candidates) > 1:\n",
    "            print(\"Collision\", bic_hash[0:12], candidates[0]['data']['commit'],candidates[1]['data']['commit'], \"BFC: \", commit['data']['commit'])\n",
    "            return None\n",
    "        else:\n",
    "            bic = candidates[0]\n",
    "        \n",
    "        delta = datesDistance(commit['data']['CommitDate'],bic['data']['CommitDate'])\n",
    "        c_distance = commitDistance(commit['data']['commit'], bic['data']['commit'])\n",
    "        result = {\n",
    "            'BFC_hash': commit['data']['commit'],\n",
    "            'BIC_hash':  bic['data']['commit'],\n",
    "            'BFC_comment': commit['data']['message'].split('\\n', 1)[0],\n",
    "            'BIC_comment': bic['data']['message'].split('\\n', 1)[0],\n",
    "            'daysDistance': delta.days,\n",
    "            'commitDistance': c_distance\n",
    "        }\n",
    "        return result\n",
    "\n",
    "    except Exception as e:\n",
    "        errors+=1\n",
    "        match = re.search(\"Fixes: (.*)\", commit['data']['message'])    \n",
    "        print(\"Error matching: \",match.group(0), \"BFC:\",commit['data']['commit'])\n",
    "        return None"
   ]
  },
  {
   "cell_type": "code",
   "execution_count": 9,
   "id": "6cf3fb0c-f919-4adb-a23f-a1a670f896fa",
   "metadata": {},
   "outputs": [
    {
     "name": "stdout",
     "output_type": "stream",
     "text": [
      "Collision 22a5dc 22a5dc0e5e3e8fef804230cd73ed7b0afd4c7bae 22a5dc10e3f8fb8370748ea19dc4e3e1620d8296 BFC:  d7924450e14ea414568563ec01489f77452b00b4\n",
      "Collision 4f1982 4f198289747f0391bc5a5574279b1791a8ca2d06 4f1982b4e262c45475a91b4253e9bc7f7c991c13 BFC:  3fd61b209977db8a9fe6c44d5a5a7aee7a255f64\n",
      "Error matching:  Fixes: commit BFC: 7ea38c6c3622bc65279dc6a1fecd28227027fbb5\n",
      "Error matching:  Fixes: commit 8700e3e7c48A5 (\"Add Soft RoCE driver\") BFC: e259934d4df7f99f2a5c2c4f074f6a55bd4b1722\n",
      "http_links 139\n",
      "not_in_git 1163\n",
      "perfect_samples 91959\n",
      "corner_cases 422\n",
      "errors 2\n"
     ]
    }
   ],
   "source": [
    "links = []\n",
    "errors = 0\n",
    "corner_cases = 0\n",
    "http_links = 0\n",
    "not_in_git = 0\n",
    "perfect_samples = 0\n",
    "\n",
    "future_results = []\n",
    "with concurrent.futures.ThreadPoolExecutor(64) as executor:\n",
    "    for commit in all_commits_dict_list:\n",
    "        future = executor.submit(analyzeCommit, commit)\n",
    "        future_results.append(future)\n",
    "        \n",
    "for future in future_results:\n",
    "    try:\n",
    "        result = future.result() \n",
    "        if result is not None:\n",
    "            links.append(result)\n",
    "    except Exception as e:\n",
    "        print(e)\n",
    "\n",
    "print(\"http_links\",http_links)\n",
    "print(\"not_in_git\",not_in_git)\n",
    "print(\"perfect_samples\",perfect_samples)\n",
    "print(\"corner_cases\",corner_cases)\n",
    "print(\"errors\",errors)"
   ]
  },
  {
   "cell_type": "code",
   "execution_count": 21,
   "id": "a9bec271-5ca7-40ad-9d37-98bd8a0e6b55",
   "metadata": {},
   "outputs": [
    {
     "data": {
      "text/plain": [
       "91216"
      ]
     },
     "execution_count": 21,
     "metadata": {},
     "output_type": "execute_result"
    }
   ],
   "source": [
    "len(links)"
   ]
  },
  {
   "cell_type": "code",
   "execution_count": 22,
   "id": "48f543d7-997f-462a-b37a-885539566eb5",
   "metadata": {},
   "outputs": [
    {
     "data": {
      "text/plain": [
       "90760"
      ]
     },
     "execution_count": 22,
     "metadata": {},
     "output_type": "execute_result"
    }
   ],
   "source": [
    "filtered_links = []\n",
    "for link in links:\n",
    "    if link['BIC_hash'] != '1da177e4c3f41524e886b7f1b8a0c1fc7321cac2':\n",
    "        filtered_links.append(link)\n",
    "len(filtered_links)"
   ]
  },
  {
   "cell_type": "markdown",
   "id": "23423478-7544-4ae9-b929-00c58820e757",
   "metadata": {},
   "source": [
    "## Analysis of distance"
   ]
  },
  {
   "cell_type": "code",
   "execution_count": 23,
   "id": "9239b6c3-8f6d-4e9c-bf72-b199fd61a518",
   "metadata": {},
   "outputs": [],
   "source": [
    "df = pd.DataFrame(filtered_links)\n",
    "df.to_csv('links.csv', index=False)  "
   ]
  },
  {
   "cell_type": "code",
   "execution_count": 24,
   "id": "e99393fd-0430-47a6-9470-be8c6dac5018",
   "metadata": {},
   "outputs": [
    {
     "data": {
      "text/html": [
       "<div>\n",
       "<style scoped>\n",
       "    .dataframe tbody tr th:only-of-type {\n",
       "        vertical-align: middle;\n",
       "    }\n",
       "\n",
       "    .dataframe tbody tr th {\n",
       "        vertical-align: top;\n",
       "    }\n",
       "\n",
       "    .dataframe thead th {\n",
       "        text-align: right;\n",
       "    }\n",
       "</style>\n",
       "<table border=\"1\" class=\"dataframe\">\n",
       "  <thead>\n",
       "    <tr style=\"text-align: right;\">\n",
       "      <th></th>\n",
       "      <th>BFC_hash</th>\n",
       "      <th>BIC_hash</th>\n",
       "      <th>BFC_comment</th>\n",
       "      <th>BIC_comment</th>\n",
       "      <th>daysDistance</th>\n",
       "      <th>commitDistance</th>\n",
       "    </tr>\n",
       "  </thead>\n",
       "  <tbody>\n",
       "    <tr>\n",
       "      <th>0</th>\n",
       "      <td>c56b097af26cb11c1f49a4311ba538c825666fed</td>\n",
       "      <td>5cedf721a7cdb54e9222133516c916210d836470</td>\n",
       "      <td>mm: list_lru: fix almost infinite loop causing...</td>\n",
       "      <td>list_lru: fix broken LRU_RETRY behaviour</td>\n",
       "      <td>49</td>\n",
       "      <td>3086</td>\n",
       "    </tr>\n",
       "    <tr>\n",
       "      <th>1</th>\n",
       "      <td>c511851de162e8ec03d62e7d7feecbdf590d881d</td>\n",
       "      <td>1c441e921201d523b5a6036aea22b0b426bf1af2</td>\n",
       "      <td>Revert \"epoll: use freezable blocking call\"</td>\n",
       "      <td>epoll: use freezable blocking call</td>\n",
       "      <td>171</td>\n",
       "      <td>25649</td>\n",
       "    </tr>\n",
       "    <tr>\n",
       "      <th>2</th>\n",
       "      <td>59612d187912750f416fbffe0c00bc0811c54ab5</td>\n",
       "      <td>9745cdb36da83aeec198650b410ca06304cf7928</td>\n",
       "      <td>Revert \"select: use freezable blocking call\"</td>\n",
       "      <td>select: use freezable blocking call</td>\n",
       "      <td>171</td>\n",
       "      <td>25649</td>\n",
       "    </tr>\n",
       "    <tr>\n",
       "      <th>3</th>\n",
       "      <td>ab1225901da2d4cd2dcbae6840e93abbef417064</td>\n",
       "      <td>2dc41281b1d1178befe4b76adf817570a7f45ec1</td>\n",
       "      <td>Revert \"ACPI / hotplug / PCI: Avoid doing too ...</td>\n",
       "      <td>ACPI / hotplug / PCI: Avoid doing too much for...</td>\n",
       "      <td>53</td>\n",
       "      <td>11642</td>\n",
       "    </tr>\n",
       "    <tr>\n",
       "      <th>4</th>\n",
       "      <td>6920a1bd037374a632d585de127b6f945199dcb8</td>\n",
       "      <td>3ea67d06e4679a16f69f66f43a8d6ee4778985fc</td>\n",
       "      <td>memcg: remove incorrect underflow check</td>\n",
       "      <td>memcg: add per cgroup writeback pages accounting</td>\n",
       "      <td>49</td>\n",
       "      <td>2422</td>\n",
       "    </tr>\n",
       "    <tr>\n",
       "      <th>...</th>\n",
       "      <td>...</td>\n",
       "      <td>...</td>\n",
       "      <td>...</td>\n",
       "      <td>...</td>\n",
       "      <td>...</td>\n",
       "      <td>...</td>\n",
       "    </tr>\n",
       "    <tr>\n",
       "      <th>90755</th>\n",
       "      <td>a5035c81847430dfa3482807b07325f29e9e8c09</td>\n",
       "      <td>0d9dab39fbbecfa8f78a4573a2e8eaf982f1207e</td>\n",
       "      <td>fbdev: fsl-diu-fb: mark wr_reg_wa() static</td>\n",
       "      <td>powerpc/5121: fsl-diu-fb: fix issue with re-en...</td>\n",
       "      <td>4848</td>\n",
       "      <td>1031123</td>\n",
       "    </tr>\n",
       "    <tr>\n",
       "      <th>90756</th>\n",
       "      <td>ce51e6153f7781bcde0f8bb4c81d6fd85ee422e6</td>\n",
       "      <td>08c9306fc2e32b037ad93127ef784d86699c523a</td>\n",
       "      <td>tracing: fprobe-event: Fix to check tracepoint...</td>\n",
       "      <td>tracing/fprobe-event: Assume fprobe is a retur...</td>\n",
       "      <td>79</td>\n",
       "      <td>31605</td>\n",
       "    </tr>\n",
       "    <tr>\n",
       "      <th>90757</th>\n",
       "      <td>f032c53bea6d2057c14553832d846be2f151cfb2</td>\n",
       "      <td>2a588dd1d5d649a183a2ff6fa1b80e870cf821d8</td>\n",
       "      <td>tracing/kprobes: Fix the order of argument des...</td>\n",
       "      <td>tracing: Add kprobe event command generation f...</td>\n",
       "      <td>1380</td>\n",
       "      <td>344728</td>\n",
       "    </tr>\n",
       "    <tr>\n",
       "      <th>90758</th>\n",
       "      <td>37de5a80e932f828c34abeaae63170d73930dca3</td>\n",
       "      <td>d08089f649a0cfb2099c8551ac47eef0cc23fdf2</td>\n",
       "      <td>cifs: Fix encryption of cleared, but unset rq_...</td>\n",
       "      <td>cifs: Change the I/O paths to use an iterator ...</td>\n",
       "      <td>260</td>\n",
       "      <td>75807</td>\n",
       "    </tr>\n",
       "    <tr>\n",
       "      <th>90759</th>\n",
       "      <td>5e2fd17f434d2fed78efb123e2fc6711e4f598f1</td>\n",
       "      <td>348a04a8d1138c2569549d6f9a3816e3e7513321</td>\n",
       "      <td>smb: client: fix mount when dns_resolver key i...</td>\n",
       "      <td>smb: client: get rid of dfs code dep in namesp...</td>\n",
       "      <td>80</td>\n",
       "      <td>29718</td>\n",
       "    </tr>\n",
       "  </tbody>\n",
       "</table>\n",
       "<p>90760 rows × 6 columns</p>\n",
       "</div>"
      ],
      "text/plain": [
       "                                       BFC_hash  \\\n",
       "0      c56b097af26cb11c1f49a4311ba538c825666fed   \n",
       "1      c511851de162e8ec03d62e7d7feecbdf590d881d   \n",
       "2      59612d187912750f416fbffe0c00bc0811c54ab5   \n",
       "3      ab1225901da2d4cd2dcbae6840e93abbef417064   \n",
       "4      6920a1bd037374a632d585de127b6f945199dcb8   \n",
       "...                                         ...   \n",
       "90755  a5035c81847430dfa3482807b07325f29e9e8c09   \n",
       "90756  ce51e6153f7781bcde0f8bb4c81d6fd85ee422e6   \n",
       "90757  f032c53bea6d2057c14553832d846be2f151cfb2   \n",
       "90758  37de5a80e932f828c34abeaae63170d73930dca3   \n",
       "90759  5e2fd17f434d2fed78efb123e2fc6711e4f598f1   \n",
       "\n",
       "                                       BIC_hash  \\\n",
       "0      5cedf721a7cdb54e9222133516c916210d836470   \n",
       "1      1c441e921201d523b5a6036aea22b0b426bf1af2   \n",
       "2      9745cdb36da83aeec198650b410ca06304cf7928   \n",
       "3      2dc41281b1d1178befe4b76adf817570a7f45ec1   \n",
       "4      3ea67d06e4679a16f69f66f43a8d6ee4778985fc   \n",
       "...                                         ...   \n",
       "90755  0d9dab39fbbecfa8f78a4573a2e8eaf982f1207e   \n",
       "90756  08c9306fc2e32b037ad93127ef784d86699c523a   \n",
       "90757  2a588dd1d5d649a183a2ff6fa1b80e870cf821d8   \n",
       "90758  d08089f649a0cfb2099c8551ac47eef0cc23fdf2   \n",
       "90759  348a04a8d1138c2569549d6f9a3816e3e7513321   \n",
       "\n",
       "                                             BFC_comment  \\\n",
       "0      mm: list_lru: fix almost infinite loop causing...   \n",
       "1            Revert \"epoll: use freezable blocking call\"   \n",
       "2           Revert \"select: use freezable blocking call\"   \n",
       "3      Revert \"ACPI / hotplug / PCI: Avoid doing too ...   \n",
       "4                memcg: remove incorrect underflow check   \n",
       "...                                                  ...   \n",
       "90755         fbdev: fsl-diu-fb: mark wr_reg_wa() static   \n",
       "90756  tracing: fprobe-event: Fix to check tracepoint...   \n",
       "90757  tracing/kprobes: Fix the order of argument des...   \n",
       "90758  cifs: Fix encryption of cleared, but unset rq_...   \n",
       "90759  smb: client: fix mount when dns_resolver key i...   \n",
       "\n",
       "                                             BIC_comment  daysDistance  \\\n",
       "0               list_lru: fix broken LRU_RETRY behaviour            49   \n",
       "1                     epoll: use freezable blocking call           171   \n",
       "2                    select: use freezable blocking call           171   \n",
       "3      ACPI / hotplug / PCI: Avoid doing too much for...            53   \n",
       "4       memcg: add per cgroup writeback pages accounting            49   \n",
       "...                                                  ...           ...   \n",
       "90755  powerpc/5121: fsl-diu-fb: fix issue with re-en...          4848   \n",
       "90756  tracing/fprobe-event: Assume fprobe is a retur...            79   \n",
       "90757  tracing: Add kprobe event command generation f...          1380   \n",
       "90758  cifs: Change the I/O paths to use an iterator ...           260   \n",
       "90759  smb: client: get rid of dfs code dep in namesp...            80   \n",
       "\n",
       "       commitDistance  \n",
       "0                3086  \n",
       "1               25649  \n",
       "2               25649  \n",
       "3               11642  \n",
       "4                2422  \n",
       "...               ...  \n",
       "90755         1031123  \n",
       "90756           31605  \n",
       "90757          344728  \n",
       "90758           75807  \n",
       "90759           29718  \n",
       "\n",
       "[90760 rows x 6 columns]"
      ]
     },
     "execution_count": 24,
     "metadata": {},
     "output_type": "execute_result"
    }
   ],
   "source": [
    "df"
   ]
  },
  {
   "cell_type": "markdown",
   "id": "c07898a9-5e4d-475d-8ac3-1a06163f9657",
   "metadata": {},
   "source": [
    "### Distance in days"
   ]
  },
  {
   "cell_type": "code",
   "execution_count": 25,
   "id": "f49ae4e4-6136-4bfc-8565-78a7534ffb2c",
   "metadata": {},
   "outputs": [
    {
     "data": {
      "text/plain": [
       "count    90760.000000\n",
       "mean       646.141516\n",
       "std       1003.671112\n",
       "min          0.000000\n",
       "25%         45.000000\n",
       "50%        203.000000\n",
       "75%        795.000000\n",
       "max       6697.000000\n",
       "Name: daysDistance, dtype: float64"
      ]
     },
     "execution_count": 25,
     "metadata": {},
     "output_type": "execute_result"
    }
   ],
   "source": [
    "df['daysDistance'].describe()"
   ]
  },
  {
   "cell_type": "code",
   "execution_count": 26,
   "id": "ed3a62a9-4d33-4523-b5aa-355a807aac5d",
   "metadata": {},
   "outputs": [
    {
     "data": {
      "image/png": "[encoded data removed]",
      "text/plain": [
       "<Figure size 1600x200 with 1 Axes>"
      ]
     },
     "metadata": {},
     "output_type": "display_data"
    }
   ],
   "source": [
    "#df.boxplot(column=['daysDistance'])\n",
    "sns.set(rc={\"figure.figsize\":(16, 2)})\n",
    "sns.boxplot(\n",
    "    x=df['daysDistance'], \n",
    ")\n",
    "plt.show()"
   ]
  },
  {
   "cell_type": "markdown",
   "id": "5d2d95cb-0bdf-4273-8aaf-ede50d60326a",
   "metadata": {},
   "source": [
    "### Distance in commits"
   ]
  },
  {
   "cell_type": "code",
   "execution_count": 27,
   "id": "367d5f01-8784-42b7-9ee4-32242eacaecb",
   "metadata": {},
   "outputs": [
    {
     "data": {
      "text/plain": [
       "count    9.076000e+04\n",
       "mean     1.402596e+05\n",
       "std      2.062567e+05\n",
       "min      1.000000e+00\n",
       "25%      1.376500e+04\n",
       "50%      4.613550e+04\n",
       "75%      1.813582e+05\n",
       "max      1.214794e+06\n",
       "Name: commitDistance, dtype: float64"
      ]
     },
     "execution_count": 27,
     "metadata": {},
     "output_type": "execute_result"
    }
   ],
   "source": [
    "df['commitDistance'].describe()"
   ]
  },
  {
   "cell_type": "code",
   "execution_count": 28,
   "id": "919aca82-c39f-43b5-82fc-974c4287104a",
   "metadata": {},
   "outputs": [
    {
     "data": {
      "image/png": "[encoded data removed]",
      "text/plain": [
       "<Figure size 1600x200 with 1 Axes>"
      ]
     },
     "metadata": {},
     "output_type": "display_data"
    }
   ],
   "source": [
    "#df.boxplot(column=['daysDistance'])\n",
    "sns.set(rc={\"figure.figsize\":(16, 2)})\n",
    "sns.boxplot(\n",
    "    x=df['commitDistance'], \n",
    ")\n",
    "plt.show()"
   ]
  },
  {
   "cell_type": "markdown",
   "id": "ad15179d-24df-45bd-a170-0c4a3756bdb2",
   "metadata": {},
   "source": [
    "## Rare cases\n",
    "- No commit message: https://github.com/torvalds/linux/commit/7b7abfe3dd81d659a0889f88965168f7eef8c5c6\n",
    "- No exist in repository (but in GitHub): https://github.com/torvalds/linux/commit/54fe26a900bc528f3df1e4235cb6b9ca5c6d4dc2\n",
    "- No exist (even in GitHub): 21d2202158e9"
   ]
  }
 ],
 "metadata": {
  "kernelspec": {
   "display_name": "Python 3 (ipykernel)",
   "language": "python",
   "name": "python3"
  },
  "language_info": {
   "codemirror_mode": {
    "name": "ipython",
    "version": 3
   },
   "file_extension": ".py",
   "mimetype": "text/x-python",
   "name": "python",
   "nbconvert_exporter": "python",
   "pygments_lexer": "ipython3",
   "version": "3.11.5"
  }
 },
 "nbformat": 4,
 "nbformat_minor": 5
}
