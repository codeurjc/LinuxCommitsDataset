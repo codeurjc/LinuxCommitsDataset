{
 "cells": [
  {
   "cell_type": "code",
   "execution_count": 1,
   "id": "25a55d38-5884-4627-b813-f87dfe07a136",
   "metadata": {},
   "outputs": [],
   "source": [
    "import json\n",
    "import re\n",
    "from datetime import datetime\n",
    "import pandas as pd\n",
    "import seaborn as sns\n",
    "import matplotlib.pyplot as plt\n",
    "import subprocess\n",
    "import concurrent.futures"
   ]
  },
  {
   "cell_type": "markdown",
   "id": "54c88292-6d0f-496b-ab12-c02701e769c8",
   "metadata": {},
   "source": [
    "# Generate BFC-BIC link dataset\n",
    "\n",
    "This notebook perform the generation of the dataset of pairs (links) between the commit that fixed a bug (BFC) and the commit that introduced that bug.\n",
    "\n",
    "To do this, all the commits in the commit dataset (~1.2M) will be loaded lazily, and requires ~8GB of RAM memory to be able to mine BFCs<->BICs. Although in some moments of the execution it is possible to reach a usage of 20GB-30GB due to the multiple Threads that load information in memory and then release it.\n",
    "\n",
    "This notebook was executed on an Ubuntu 22.04 machine with 64 CPU cores and 116 GB of RAM."
   ]
  },
  {
   "cell_type": "code",
   "execution_count": 2,
   "id": "0601d167-13b8-4e30-b7d9-297cf45dedc1",
   "metadata": {},
   "outputs": [],
   "source": [
    "def getCommits():\n",
    "    with open('../linux-commits-2023-11-12.json') as f:\n",
    "        for commit in f:\n",
    "            yield json.loads(commit)"
   ]
  },
  {
   "cell_type": "markdown",
   "id": "4adb5c2a-a49b-42e6-9a26-311d72a8a1e6",
   "metadata": {},
   "source": [
    "To efficiently calculate the distance between a BFC and a BIC, the project repository is required, which can be obtained by uncommenting the following line and executing it."
   ]
  },
  {
   "cell_type": "code",
   "execution_count": 3,
   "id": "3906e71d-48cb-48c4-9fda-7055ceadf7cd",
   "metadata": {},
   "outputs": [],
   "source": [
    "# ! git clone git://git.kernel.org/pub/scm/linux/kernel/git/torvalds/linux.git"
   ]
  },
  {
   "cell_type": "code",
   "execution_count": 4,
   "id": "769fdbdb-3cdd-469c-9016-7fa1cbd373e5",
   "metadata": {},
   "outputs": [],
   "source": [
    "all_commits_map = {}\n",
    "all_commits_list = []\n",
    "for commit in getCommits():\n",
    "    \n",
    "    commit_reduced = {\n",
    "        \"hash\": commit['data']['commit'],\n",
    "        \"message\": commit['data']['message'] if \"message\" in commit['data'] else None,\n",
    "        \"date\": commit['data']['CommitDate']\n",
    "    }\n",
    "\n",
    "    all_commits_list.append(commit_reduced)\n",
    "    \n",
    "    for n in [5, 6, 7, 8, 9, 10, 11, 12]:\n",
    "        # To cover collisions\n",
    "        if commit_reduced['hash'][0:n] in all_commits_map:\n",
    "            all_commits_map[commit_reduced['hash'][0:n]].append(commit_reduced)\n",
    "        else:\n",
    "            all_commits_map[commit_reduced['hash'][0:n]] = [commit_reduced]"
   ]
  },
  {
   "cell_type": "code",
   "execution_count": 5,
   "id": "5634802b-4cff-4fa1-8ab2-4f7efca63aa1",
   "metadata": {},
   "outputs": [],
   "source": [
    "date_format = '%a %b %d %H:%M:%S %Y %z'\n",
    "def datesDistance(bfc_date, bic_date):\n",
    "    bfc_date_formated = datetime.strptime(bfc_date, date_format)\n",
    "    bic_date_formated = datetime.strptime(bic_date, date_format)\n",
    "    return bfc_date_formated - bic_date_formated"
   ]
  },
  {
   "cell_type": "markdown",
   "id": "324c6320-2011-4cd4-8df2-0f221a4b525b",
   "metadata": {},
   "source": [
    "**Note**: Go to the end of the document for an alternative to the following method"
   ]
  },
  {
   "cell_type": "code",
   "execution_count": 6,
   "id": "c2dfaf6b-99ea-4103-943e-f7b3f1bc8fb2",
   "metadata": {},
   "outputs": [],
   "source": [
    "def commitDistance(bfc_hash, bic_hash):\n",
    "    distance_raw = subprocess.getoutput(\"cd linux/ && git rev-list \"+bfc_hash+\"...\"+bic_hash+\" | wc -l\")\n",
    "    return int(distance_raw)"
   ]
  },
  {
   "cell_type": "code",
   "execution_count": 7,
   "id": "38562463-c8a0-40d5-9b61-bafe5e8b2040",
   "metadata": {},
   "outputs": [],
   "source": [
    "def analyzeCornerCases(commit):\n",
    "    global http_links\n",
    "\n",
    "    commit_message = commit['message'].replace('\"','').replace('(',' ').replace(')',' ')\n",
    "    match = re.search(r\"Fixes:[^\\S\\n]+(\\w+)\", commit_message)\n",
    "    if match is not None:\n",
    "        bic_hash = match.group(1)\n",
    "    else:\n",
    "        return None\n",
    "        \n",
    "    # There are fixes with a link to Bugzilla/Other sites\n",
    "    if bic_hash.startswith(\"http\"):\n",
    "        http_links+=1\n",
    "        return None\n",
    "\n",
    "    if bic_hash in [\n",
    "        'IRQ','NB','SLI','Bug','line','tag',\n",
    "        'tags','Discovery','discovery','drivers','igt','Bugzilla','bugzilla',\n",
    "        'correctly','computation','terminate','Configure','addresses',\n",
    "        'hashes', 'second'\n",
    "    ]:\n",
    "        return None\n",
    "\n",
    "    if bic_hash == \"commit\":\n",
    "        match = re.search(r\"Fixes:[^\\S\\n]+commit[^\\S\\n]+(\\b[0-9a-f]{5,40}\\b)\", commit_message)\n",
    "        bic_hash = match.group(1)\n",
    "\n",
    "    elif bic_hash == \"Commit\":\n",
    "        match = re.search(r\"Fixes:[^\\S\\n]+Commit[^\\S\\n]+(\\b[0-9a-f]{5,40}\\b)\", commit_message)\n",
    "        bic_hash = match.group(1)\n",
    "\n",
    "    # Double 'Fixes: ' (7 cases)\n",
    "    elif bic_hash == \"Fixes\":\n",
    "        match = re.search(\"Fixes: Fixes:[^\\S\\n]+(\\b[0-9a-f]{5,40}\\b)\", commit_message)\n",
    "        if match is not None:\n",
    "            bic_hash = match.group(1) \n",
    "\n",
    "    # Special format (3 cases)\n",
    "    elif bic_hash == \"linux\":\n",
    "        match = re.search(\"Fixes: linux-next commit[^\\S\\n]+(\\b[0-9a-f]{5,40}\\b)\", commit_message)\n",
    "        if match is not None:\n",
    "            bic_hash = match.group(1)\n",
    "\n",
    "    # 77 cases, no commits hashes (manually checked)\n",
    "    elif len(bic_hash[0:12]) < 6:\n",
    "        return None\n",
    "\n",
    "    return bic_hash"
   ]
  },
  {
   "cell_type": "code",
   "execution_count": 8,
   "id": "a2bf5f2d-315d-42df-8538-9ea40283d59d",
   "metadata": {},
   "outputs": [],
   "source": [
    "def analyzeCommit(commit):\n",
    "    global errors\n",
    "    global not_in_git\n",
    "    global not_sha\n",
    "    global perfect_samples\n",
    "    global short_commit_hash\n",
    "    global corner_cases\n",
    "    \n",
    "    try:\n",
    "        # There are commits without message\n",
    "        if commit['message'] is None:\n",
    "            return None\n",
    "\n",
    "        bic_hash = \"\"\n",
    "\n",
    "        # Search: \"Fixes: <hash>\"\n",
    "        match = re.search(r\"Fixes:[^\\S\\n]+(\\b[0-9a-f]{5,40}\\b)\", commit['message'])\n",
    "        if match is not None:\n",
    "            bic_hash = match.group(1)\n",
    "            perfect_samples+=1\n",
    "        else:\n",
    "            #return None\n",
    "            # Search: \"Fixes <something>\"\n",
    "            bic_hash = analyzeCornerCases(commit)\n",
    "            if bic_hash is None: return None\n",
    "            corner_cases+=1\n",
    "\n",
    "        # Last check, if commit hash not in map, discard it\n",
    "        if bic_hash[0:12] not in all_commits_map:\n",
    "            not_in_git+=1\n",
    "            return None\n",
    "                \n",
    "        candidates = all_commits_map[bic_hash[0:12]]\n",
    "\n",
    "        if len(candidates) > 1:\n",
    "            print(\"Collision\", bic_hash[0:12], candidates[0]['hash'],candidates[1]['hash'], \"BFC: \", commit['hash'])\n",
    "            return None\n",
    "        else:\n",
    "            bic = candidates[0]\n",
    "        \n",
    "        delta = datesDistance(commit['date'],bic['date'])\n",
    "        c_distance = commitDistance(commit['hash'], bic['hash'])\n",
    "        result = {\n",
    "            'BFC_hash': commit['hash'],\n",
    "            'BIC_hash':  bic['hash'],\n",
    "            'BFC_comment': commit['message'].split('\\n', 1)[0],\n",
    "            'BIC_comment': bic['message'].split('\\n', 1)[0],\n",
    "            'daysDistance': delta.days,\n",
    "            'commitDistance': c_distance\n",
    "        }\n",
    "        return result\n",
    "\n",
    "    except Exception as e:\n",
    "        errors+=1\n",
    "        match = re.search(\"Fixes: (.*)\", commit['message'])    \n",
    "        print(\"Error matching: \",match.group(0), \"BFC:\",commit['hash'])\n",
    "        return None"
   ]
  },
  {
   "cell_type": "code",
   "execution_count": 9,
   "id": "6cf3fb0c-f919-4adb-a23f-a1a670f896fa",
   "metadata": {},
   "outputs": [
    {
     "name": "stdout",
     "output_type": "stream",
     "text": [
      "Collision 22a5dc 22a5dc0e5e3e8fef804230cd73ed7b0afd4c7bae 22a5dc10e3f8fb8370748ea19dc4e3e1620d8296 BFC:  d7924450e14ea414568563ec01489f77452b00b4\n",
      "Collision 4f1982 4f198289747f0391bc5a5574279b1791a8ca2d06 4f1982b4e262c45475a91b4253e9bc7f7c991c13 BFC:  3fd61b209977db8a9fe6c44d5a5a7aee7a255f64\n",
      "Error matching:  Fixes: commit BFC: 7ea38c6c3622bc65279dc6a1fecd28227027fbb5\n",
      "Error matching:  Fixes: commit 8700e3e7c48A5 (\"Add Soft RoCE driver\") BFC: e259934d4df7f99f2a5c2c4f074f6a55bd4b1722\n",
      "http_links 139\n",
      "not_in_git 1163\n",
      "perfect_samples 91959\n",
      "corner_cases 422\n",
      "errors 2\n"
     ]
    }
   ],
   "source": [
    "links = []\n",
    "errors = 0\n",
    "corner_cases = 0\n",
    "http_links = 0\n",
    "not_in_git = 0\n",
    "perfect_samples = 0\n",
    "\n",
    "future_results = []\n",
    "with concurrent.futures.ThreadPoolExecutor(64) as executor:\n",
    "    for commit in all_commits_list:\n",
    "        future = executor.submit(analyzeCommit, commit)\n",
    "        future_results.append(future)\n",
    "        \n",
    "for future in future_results:\n",
    "    try:\n",
    "        result = future.result() \n",
    "        if result is not None:\n",
    "            links.append(result)\n",
    "    except Exception as e:\n",
    "        print(e)\n",
    "\n",
    "print(\"http_links\",http_links)\n",
    "print(\"not_in_git\",not_in_git)\n",
    "print(\"perfect_samples\",perfect_samples)\n",
    "print(\"corner_cases\",corner_cases)\n",
    "print(\"errors\",errors)"
   ]
  },
  {
   "cell_type": "code",
   "execution_count": 10,
   "id": "a9bec271-5ca7-40ad-9d37-98bd8a0e6b55",
   "metadata": {},
   "outputs": [
    {
     "data": {
      "text/plain": [
       "91216"
      ]
     },
     "execution_count": 10,
     "metadata": {},
     "output_type": "execute_result"
    }
   ],
   "source": [
    "len(links)"
   ]
  },
  {
   "cell_type": "code",
   "execution_count": 11,
   "id": "48f543d7-997f-462a-b37a-885539566eb5",
   "metadata": {},
   "outputs": [
    {
     "data": {
      "text/plain": [
       "90760"
      ]
     },
     "execution_count": 11,
     "metadata": {},
     "output_type": "execute_result"
    }
   ],
   "source": [
    "filtered_links = []\n",
    "for link in links:\n",
    "    if link['BIC_hash'] != '1da177e4c3f41524e886b7f1b8a0c1fc7321cac2':\n",
    "        filtered_links.append(link)\n",
    "len(filtered_links)"
   ]
  },
  {
   "cell_type": "code",
   "execution_count": 12,
   "id": "9239b6c3-8f6d-4e9c-bf72-b199fd61a518",
   "metadata": {},
   "outputs": [],
   "source": [
    "df = pd.DataFrame(filtered_links)\n",
    "df.to_csv('bfc_bic.csv', index=False)  "
   ]
  },
  {
   "cell_type": "markdown",
   "id": "ad15179d-24df-45bd-a170-0c4a3756bdb2",
   "metadata": {},
   "source": [
    "**Note**: Its possible to calculate  commitDistance using only the dataset, but for performance reasons, its faster doing using the command `git rev-list` on the Linux Kernel Repository. An alternative code is provided:\n",
    "\n",
    "```python\n",
    "def find_path(graph, start, end, path=[]):\n",
    "    path = path + [start]\n",
    "    if start == end:\n",
    "        return path\n",
    "    if start in graph.keys():\n",
    "        return None\n",
    "    for parent in getParents(start):\n",
    "        if parent not in path:\n",
    "            newpath = find_path(graph, parent, end, path)\n",
    "            if newpath is not None: return newpath\n",
    "        return None\n",
    "def getParents(_hash):\n",
    "    return all_commits_map[_hash[0:12]][0]['data']['parents']\n",
    "def commitDistance(bfc_hash, bic_hash):\n",
    "    return len(find_path(all_commits_map, bfc_hash, bic_hash))-1\n",
    "```"
   ]
  }
 ],
 "metadata": {
  "kernelspec": {
   "display_name": "Python 3 (ipykernel)",
   "language": "python",
   "name": "python3"
  },
  "language_info": {
   "codemirror_mode": {
    "name": "ipython",
    "version": 3
   },
   "file_extension": ".py",
   "mimetype": "text/x-python",
   "name": "python",
   "nbconvert_exporter": "python",
   "pygments_lexer": "ipython3",
   "version": "3.12.4"
  }
 },
 "nbformat": 4,
 "nbformat_minor": 5
}
