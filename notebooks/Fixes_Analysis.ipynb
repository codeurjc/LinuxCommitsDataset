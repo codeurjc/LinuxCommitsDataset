{
 "cells": [
  {
   "cell_type": "code",
   "execution_count": 6,
   "id": "f19f3fe8-0ecf-41df-90e7-883ec6454fab",
   "metadata": {},
   "outputs": [
    {
     "name": "stderr",
     "output_type": "stream",
     "text": [
      "/tmp/ipykernel_867357/2734944423.py:4: DtypeWarning: Columns (2,3) have mixed types. Specify dtype option on import or set low_memory=False.\n",
      "  fixes_df = pd.read_csv(os.path.join('..', 'fixes.csv'))\n"
     ]
    },
    {
     "data": {
      "text/html": [
       "<div>\n",
       "<style scoped>\n",
       "    .dataframe tbody tr th:only-of-type {\n",
       "        vertical-align: middle;\n",
       "    }\n",
       "\n",
       "    .dataframe tbody tr th {\n",
       "        vertical-align: top;\n",
       "    }\n",
       "\n",
       "    .dataframe thead th {\n",
       "        text-align: right;\n",
       "    }\n",
       "</style>\n",
       "<table border=\"1\" class=\"dataframe\">\n",
       "  <thead>\n",
       "    <tr style=\"text-align: right;\">\n",
       "      <th></th>\n",
       "      <th>hash</th>\n",
       "      <th>date</th>\n",
       "      <th>fixes_hash</th>\n",
       "      <th>fixes_date</th>\n",
       "      <th>fixes_commits</th>\n",
       "      <th>fixes_time</th>\n",
       "    </tr>\n",
       "  </thead>\n",
       "  <tbody>\n",
       "    <tr>\n",
       "      <th>0</th>\n",
       "      <td>1da177e4c3</td>\n",
       "      <td>2005-04-16 22:20:36+00:00</td>\n",
       "      <td>NaN</td>\n",
       "      <td>NaN</td>\n",
       "      <td>NaN</td>\n",
       "      <td>NaN</td>\n",
       "    </tr>\n",
       "    <tr>\n",
       "      <th>1</th>\n",
       "      <td>8d38eadb7a</td>\n",
       "      <td>2005-04-16 22:23:53+00:00</td>\n",
       "      <td>NaN</td>\n",
       "      <td>NaN</td>\n",
       "      <td>NaN</td>\n",
       "      <td>NaN</td>\n",
       "    </tr>\n",
       "    <tr>\n",
       "      <th>2</th>\n",
       "      <td>baaa2c512d</td>\n",
       "      <td>2005-04-16 22:23:54+00:00</td>\n",
       "      <td>NaN</td>\n",
       "      <td>NaN</td>\n",
       "      <td>NaN</td>\n",
       "      <td>NaN</td>\n",
       "    </tr>\n",
       "    <tr>\n",
       "      <th>3</th>\n",
       "      <td>2d137c24e9</td>\n",
       "      <td>2005-04-16 22:23:55+00:00</td>\n",
       "      <td>NaN</td>\n",
       "      <td>NaN</td>\n",
       "      <td>NaN</td>\n",
       "      <td>NaN</td>\n",
       "    </tr>\n",
       "    <tr>\n",
       "      <th>4</th>\n",
       "      <td>7aa52f5128</td>\n",
       "      <td>2005-04-16 22:23:56+00:00</td>\n",
       "      <td>NaN</td>\n",
       "      <td>NaN</td>\n",
       "      <td>NaN</td>\n",
       "      <td>NaN</td>\n",
       "    </tr>\n",
       "    <tr>\n",
       "      <th>...</th>\n",
       "      <td>...</td>\n",
       "      <td>...</td>\n",
       "      <td>...</td>\n",
       "      <td>...</td>\n",
       "      <td>...</td>\n",
       "      <td>...</td>\n",
       "    </tr>\n",
       "    <tr>\n",
       "      <th>1233416</th>\n",
       "      <td>784e0e20b4</td>\n",
       "      <td>2023-11-10 15:32:04+00:00</td>\n",
       "      <td>NaN</td>\n",
       "      <td>NaN</td>\n",
       "      <td>NaN</td>\n",
       "      <td>NaN</td>\n",
       "    </tr>\n",
       "    <tr>\n",
       "      <th>1233417</th>\n",
       "      <td>705fc522fe</td>\n",
       "      <td>2023-11-10 15:33:15+00:00</td>\n",
       "      <td>NaN</td>\n",
       "      <td>NaN</td>\n",
       "      <td>NaN</td>\n",
       "      <td>NaN</td>\n",
       "    </tr>\n",
       "    <tr>\n",
       "      <th>1233418</th>\n",
       "      <td>ee1d21794e</td>\n",
       "      <td>2023-11-10 15:33:19+00:00</td>\n",
       "      <td>NaN</td>\n",
       "      <td>NaN</td>\n",
       "      <td>NaN</td>\n",
       "      <td>NaN</td>\n",
       "    </tr>\n",
       "    <tr>\n",
       "      <th>1233419</th>\n",
       "      <td>fd2bd7c053</td>\n",
       "      <td>2023-11-10 15:33:26+00:00</td>\n",
       "      <td>NaN</td>\n",
       "      <td>NaN</td>\n",
       "      <td>NaN</td>\n",
       "      <td>NaN</td>\n",
       "    </tr>\n",
       "    <tr>\n",
       "      <th>1233420</th>\n",
       "      <td>1b907d0507</td>\n",
       "      <td>2023-11-12 01:17:22+00:00</td>\n",
       "      <td>NaN</td>\n",
       "      <td>NaN</td>\n",
       "      <td>NaN</td>\n",
       "      <td>NaN</td>\n",
       "    </tr>\n",
       "  </tbody>\n",
       "</table>\n",
       "<p>1233421 rows × 6 columns</p>\n",
       "</div>"
      ],
      "text/plain": [
       "               hash                      date fixes_hash fixes_date  \\\n",
       "0        1da177e4c3 2005-04-16 22:20:36+00:00        NaN        NaN   \n",
       "1        8d38eadb7a 2005-04-16 22:23:53+00:00        NaN        NaN   \n",
       "2        baaa2c512d 2005-04-16 22:23:54+00:00        NaN        NaN   \n",
       "3        2d137c24e9 2005-04-16 22:23:55+00:00        NaN        NaN   \n",
       "4        7aa52f5128 2005-04-16 22:23:56+00:00        NaN        NaN   \n",
       "...             ...                       ...        ...        ...   \n",
       "1233416  784e0e20b4 2023-11-10 15:32:04+00:00        NaN        NaN   \n",
       "1233417  705fc522fe 2023-11-10 15:33:15+00:00        NaN        NaN   \n",
       "1233418  ee1d21794e 2023-11-10 15:33:19+00:00        NaN        NaN   \n",
       "1233419  fd2bd7c053 2023-11-10 15:33:26+00:00        NaN        NaN   \n",
       "1233420  1b907d0507 2023-11-12 01:17:22+00:00        NaN        NaN   \n",
       "\n",
       "         fixes_commits  fixes_time  \n",
       "0                  NaN         NaN  \n",
       "1                  NaN         NaN  \n",
       "2                  NaN         NaN  \n",
       "3                  NaN         NaN  \n",
       "4                  NaN         NaN  \n",
       "...                ...         ...  \n",
       "1233416            NaN         NaN  \n",
       "1233417            NaN         NaN  \n",
       "1233418            NaN         NaN  \n",
       "1233419            NaN         NaN  \n",
       "1233420            NaN         NaN  \n",
       "\n",
       "[1233421 rows x 6 columns]"
      ]
     },
     "execution_count": 6,
     "metadata": {},
     "output_type": "execute_result"
    }
   ],
   "source": [
    "import pandas as pd\n",
    "import os\n",
    "\n",
    "fixes_df = pd.read_csv(os.path.join('..', 'fixes.csv'))\n",
    "fixes_df['date'] = pd.to_datetime(fixes_df['date'], format='ISO8601', utc=True)\n",
    "fixes_df"
   ]
  },
  {
   "cell_type": "code",
   "execution_count": 13,
   "id": "9148f738-9edc-4bec-baf4-7d25b211fce8",
   "metadata": {},
   "outputs": [
    {
     "name": "stdout",
     "output_type": "stream",
     "text": [
      "date\n",
      "2005    15860\n",
      "2006    29446\n",
      "2007    30566\n",
      "2008    50903\n",
      "2009    52545\n",
      "2010    49635\n",
      "2011    55112\n",
      "2012    64959\n",
      "2013    71351\n",
      "2014    75951\n",
      "2015    75424\n",
      "2016    77134\n",
      "2017    80857\n",
      "2018    80414\n",
      "2019    82545\n",
      "2020    90448\n",
      "2021    86112\n",
      "2022    85823\n",
      "2023    78336\n",
      "Name: date, dtype: int64\n"
     ]
    },
    {
     "data": {
      "text/plain": [
       "<Axes: xlabel='date'>"
      ]
     },
     "execution_count": 13,
     "metadata": {},
     "output_type": "execute_result"
    },
    {
     "data": {
      "image/png": "[encoded data removed]",
      "text/plain": [
       "<Figure size 640x480 with 1 Axes>"
      ]
     },
     "metadata": {},
     "output_type": "display_data"
    }
   ],
   "source": [
    "fixes_year = fixes_df['date'].groupby(fixes_df.date.dt.year).agg('count')\n",
    "print(fixes_year)\n",
    "fixes_year.plot(kind='bar')"
   ]
  },
  {
   "cell_type": "code",
   "execution_count": 54,
   "id": "6a345db5-e7f4-4a3f-be89-5c202278575a",
   "metadata": {},
   "outputs": [
    {
     "data": {
      "text/plain": [
       "year\n",
       "2013      167\n",
       "2014     1525\n",
       "2015     3008\n",
       "2016     5317\n",
       "2017     8154\n",
       "2018     9020\n",
       "2019    11277\n",
       "2020    12804\n",
       "2021    13464\n",
       "2022    14164\n",
       "2023    11931\n",
       "Name: year, dtype: int64"
      ]
     },
     "execution_count": 54,
     "metadata": {},
     "output_type": "execute_result"
    }
   ],
   "source": [
    "fixesonly_df = fixes_df.dropna(subset=['fixes_hash'])\n",
    "pd.options.mode.chained_assignment = None\n",
    "fixesonly_df['year'] = fixesonly_df['date'].dt.year\n",
    "fixesonly_year = fixesonly_df.groupby(['year'])['year'].agg('count')\n",
    "fixesonly_year"
   ]
  },
  {
   "cell_type": "code",
   "execution_count": 75,
   "id": "8fe151f6-5e65-4c2f-95a6-1c0ccf6dd550",
   "metadata": {},
   "outputs": [
    {
     "data": {
      "text/plain": [
       "<Axes: xlabel='year'>"
      ]
     },
     "execution_count": 75,
     "metadata": {},
     "output_type": "execute_result"
    },
    {
     "data": {
      "image/png": "[encoded data removed]",
      "text/plain": [
       "<Figure size 640x480 with 1 Axes>"
      ]
     },
     "metadata": {},
     "output_type": "display_data"
    }
   ],
   "source": [
    "fixesonly_year_mean = fixesonly_df.groupby('year')['fixes_time'].agg('median').div(3600*24)\n",
    "fixesonly_year_mean\n",
    "fixesonly_year_mean.plot(kind='bar')"
   ]
  },
  {
   "cell_type": "code",
   "execution_count": 72,
   "id": "6d6ef48b-2a99-466f-9faf-b088197b8ee5",
   "metadata": {},
   "outputs": [
    {
     "data": {
      "text/plain": [
       "<Axes: xlabel='year'>"
      ]
     },
     "execution_count": 72,
     "metadata": {},
     "output_type": "execute_result"
    },
    {
     "data": {
      "image/png": "[encoded data removed]",
      "text/plain": [
       "<Figure size 640x480 with 1 Axes>"
      ]
     },
     "metadata": {},
     "output_type": "display_data"
    }
   ],
   "source": [
    "fixesonly_year_commits = fixesonly_df.groupby('year')['fixes_commits'].agg('mean')\n",
    "fixesonly_year_commits\n",
    "fixesonly_year_commits.plot(kind='bar')"
   ]
  }
 ],
 "metadata": {
  "kernelspec": {
   "display_name": "Python 3 (ipykernel)",
   "language": "python",
   "name": "python3"
  },
  "language_info": {
   "codemirror_mode": {
    "name": "ipython",
    "version": 3
   },
   "file_extension": ".py",
   "mimetype": "text/x-python",
   "name": "python",
   "nbconvert_exporter": "python",
   "pygments_lexer": "ipython3",
   "version": "3.12.4"
  }
 },
 "nbformat": 4,
 "nbformat_minor": 5
}
