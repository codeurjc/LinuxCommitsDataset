{
 "cells": [
  {
   "cell_type": "code",
   "execution_count": 1,
   "id": "4b2cb4bb-3fbd-485d-8fa1-5e117cae7b61",
   "metadata": {},
   "outputs": [],
   "source": [
    "import json\n",
    "import re\n",
    "from datetime import datetime\n",
    "import pandas as pd\n",
    "import seaborn as sns\n",
    "import matplotlib.pyplot as plt"
   ]
  },
  {
   "cell_type": "code",
   "execution_count": 3,
   "id": "5de61a90-371a-4a9a-8c8b-3e419784b8f7",
   "metadata": {},
   "outputs": [],
   "source": [
    "with open('../linux-commits-2023-11-12.json') as f:\n",
    "    all_commits = f.readlines()"
   ]
  },
  {
   "cell_type": "code",
   "execution_count": 4,
   "id": "1dbe41f5-d2a0-41c5-b652-dcd955b7ac46",
   "metadata": {},
   "outputs": [],
   "source": [
    "all_commits_dict_list = []\n",
    "all_commits_map = {}\n",
    "for commit in all_commits:\n",
    "    commit_dict = json.loads(commit)\n",
    "\n",
    "    # Just a fair idea about multiple-key\n",
    "    for n in [5, 6, 7, 8, 9, 10, 11, 12]:\n",
    "        # To cover collisions\n",
    "        if commit_dict['data']['commit'][0:n] in all_commits_map:\n",
    "            all_commits_map[commit_dict['data']['commit'][0:n]].append(commit_dict)\n",
    "        else:\n",
    "            all_commits_map[commit_dict['data']['commit'][0:n]] = [commit_dict]\n",
    "    all_commits_dict_list.append(commit_dict)"
   ]
  },
  {
   "cell_type": "markdown",
   "id": "e92e11e4-3f61-46ca-b8f7-d7ed5ebb08ee",
   "metadata": {},
   "source": [
    "- Commits por año a lo largo del tiempo\n",
    "  - Committers por año a lo largo del tiempo\n",
    "  - Tamaño de los commits por año, a lo largo del tiempo. Para el\n",
    "tamaño, usamos simplemente el tamaño del diff, que tenemos sus datos en\n",
    "lo de Perceval. Para cada año, podemos usar cuatro cuartiles, aunque\n",
    "quizás sea difícil representarlos en una gráfica porque va a haber\n",
    "muchos commits muy pequeños (pero podemos probar). Añadir mención\n",
    "  - Lo mismo, para número de ficheros tocados por el commit, a lo largo\n",
    "del tiempo.\n",
    "\n",
    "Las dos útlimas son para ver un poco si ha habido cambios destacables a\n",
    "lo largo del tiempo.\n",
    "\n",
    "También una tabla de estadísticas con número de commits, número de\n",
    "committers, fecha de primer commit, fecha de último commit, y no sé si\n",
    "algo más, apra caracterizar la muestra.\n",
    "\n",
    "Cuanto tiempo ha estado abierto un bug (BIC-BFC) \n",
    "- Gráfica por cada año con colores distintos\n",
    "\n",
    "Nº caracteres del comentario\n",
    "\n",
    "Nº de gente que está introduciendo bugs a lo largo del tiempo (cuánta gente son responsables de los BICs?)\n",
    "\n",
    "Nº de gente involucrada"
   ]
  },
  {
   "cell_type": "code",
   "execution_count": 36,
   "id": "e987d42b-f29e-4c7c-8bd9-e4cf94680bf7",
   "metadata": {},
   "outputs": [
    {
     "data": {
      "text/plain": [
       "{'backend_name': 'Git',\n",
       " 'backend_version': '0.13.0',\n",
       " 'category': 'commit',\n",
       " 'classified_fields_filtered': None,\n",
       " 'data': {'Author': 'Aric Cyr <aric.cyr@amd.com>',\n",
       "  'AuthorDate': 'Sun Oct 29 21:22:37 2023 -0400',\n",
       "  'Commit': 'Alex Deucher <alexander.deucher@amd.com>',\n",
       "  'CommitDate': 'Tue Nov 7 12:03:30 2023 -0500',\n",
       "  'Signed-off-by': ['Aric Cyr <aric.cyr@amd.com>',\n",
       "   'Alex Deucher <alexander.deucher@amd.com>'],\n",
       "  'commit': '5c10147464fafbd3850d1f276a75a8825ecbbc0d',\n",
       "  'files': [{'action': 'M',\n",
       "    'added': '1',\n",
       "    'file': 'drivers/gpu/drm/amd/display/dc/dc.h',\n",
       "    'indexes': ['f02159853c46', '9316b737a8ba'],\n",
       "    'modes': ['100644', '100644'],\n",
       "    'removed': '1'}],\n",
       "  'message': 'drm/amd/display: Promote DAL to 3.2.259\\n\\nSummary:\\n\\n- Enable DCN35 physymclk root clock gating\\n- Fix DP automation test pattern bug\\n- Disable OTG for mode timing switch on DCN35\\n- Refactor DML2\\n- Revert Fix handling duplicate planes on one stream\\n- Revert Enable DCN clock gating\\n- Implement cursor P-State allow for SubVP\\n- Optimize pipe otg allocation\\n- Save and restore mall state while switching from ODM to Subvp\\n\\nAcked-by: Hersen Wu <hersenxs.wu@amd.com>\\nSigned-off-by: Aric Cyr <aric.cyr@amd.com>\\nTested-by: Daniel Wheeler <daniel.wheeler@amd.com>\\nSigned-off-by: Alex Deucher <alexander.deucher@amd.com>',\n",
       "  'parents': ['fecbaa0a79adaa632e406ee5cffe5751e2d44fcb'],\n",
       "  'refs': []},\n",
       " 'origin': 'linux',\n",
       " 'perceval_version': '0.23.1',\n",
       " 'search_fields': {'item_id': '5c10147464fafbd3850d1f276a75a8825ecbbc0d'},\n",
       " 'tag': 'linux',\n",
       " 'timestamp': 1699832114.736231,\n",
       " 'updated_on': 1699376610.0,\n",
       " 'uuid': 'f0374fb14b94dba0730f6da116b74a0b8b3087be'}"
      ]
     },
     "execution_count": 36,
     "metadata": {},
     "output_type": "execute_result"
    }
   ],
   "source": [
    "all_commits_dict_list[-100]"
   ]
  },
  {
   "cell_type": "code",
   "execution_count": 14,
   "id": "fd54737f-ed98-4673-bc54-7693b7811214",
   "metadata": {},
   "outputs": [],
   "source": [
    "all_commits_synthesized = []\n",
    "for commit in all_commits_dict_list:\n",
    "    synthesized_commit = {\n",
    "        'date': commit['data']['CommitDate'],\n",
    "        'author': commit['data']['Author'],\n",
    "    }\n",
    "    all_commits_synthesized.append(synthesized_commit)"
   ]
  },
  {
   "cell_type": "code",
   "execution_count": 18,
   "id": "136986d5-dda9-4f29-a98b-8e4ed98748bf",
   "metadata": {},
   "outputs": [],
   "source": [
    "df = pd.DataFrame(all_commits_synthesized)\n",
    "df['date'] = pd.to_datetime(df['date'], format='%a %b %d %H:%M:%S %Y %z', utc=True)"
   ]
  },
  {
   "cell_type": "markdown",
   "id": "24f0b5ae-38b8-435f-8975-c50698fab938",
   "metadata": {},
   "source": [
    "## Number of commits per year"
   ]
  },
  {
   "cell_type": "code",
   "execution_count": 27,
   "id": "4821d402-d859-4844-991e-0d4d7adac2a4",
   "metadata": {},
   "outputs": [
    {
     "data": {
      "image/png": "[encoded data removed]",
      "text/plain": [
       "<Figure size 1200x400 with 1 Axes>"
      ]
     },
     "metadata": {},
     "output_type": "display_data"
    }
   ],
   "source": [
    "fig, axs = plt.subplots(figsize=(12, 4))\n",
    "df_mean_years = df.groupby(df[\"date\"].dt.year).count()\n",
    "df_mean_years.plot(kind='bar', rot=0, ax=axs)\n",
    "plt.ylabel(\"# of commits\"); "
   ]
  }
 ],
 "metadata": {
  "kernelspec": {
   "display_name": "Python 3 (ipykernel)",
   "language": "python",
   "name": "python3"
  },
  "language_info": {
   "codemirror_mode": {
    "name": "ipython",
    "version": 3
   },
   "file_extension": ".py",
   "mimetype": "text/x-python",
   "name": "python",
   "nbconvert_exporter": "python",
   "pygments_lexer": "ipython3",
   "version": "3.11.5"
  }
 },
 "nbformat": 4,
 "nbformat_minor": 5
}
